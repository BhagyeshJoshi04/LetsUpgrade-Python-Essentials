{
 "cells": [
  {
   "cell_type": "markdown",
   "metadata": {},
   "source": [
    "# Question 1"
   ]
  },
  {
   "cell_type": "markdown",
   "metadata": {},
   "source": [
    "\n",
    "\n",
    "For this challenge,create a bank account class that has two attributes\n",
    "*ownerName\n",
    "*Balance\n",
    "And two methods\n",
    "*deposit\n",
    "*withdraw\n",
    "As an added requirement,withdrawals may not exceed the available balance.\n",
    "Instantiate your class,make several deposits and withdrawals,and test to make sure the account\n",
    "cant be overdrawn."
   ]
  },
  {
   "cell_type": "code",
   "execution_count": 2,
   "metadata": {},
   "outputs": [],
   "source": [
    "\n",
    "class bankAccount():\n",
    "    def __init__ (self,ownerName):\n",
    "        self.ownerName=ownerName;\n",
    "        self.balance=0;\n",
    "    def deposit(self):\n",
    "        deposit=float(input(print(\"How many rupees to deposit\")))\n",
    "        self.balance+=deposit\n",
    "        print(self.ownerName,\" ,You have deposited \",deposit,' ,Your total balance is ',self.balance)\n",
    "    def withDrawl(self):\n",
    "        withDraw=float(input(print(\"How many rupees to withdraw\")))\n",
    "        self.balance=self.balance-withDraw\n",
    "        if(self.balance>0):\n",
    "            print(self.ownerName,\",you have withdrawl \",withDraw,',Your total balance is',self.balance)\n",
    "        else:\n",
    "            print(self.ownerName,\",INSUFFICIENT BALANCE\")\n",
    "            \n",
    "            \n",
    "        \n",
    "        \n",
    "            \n",
    "    \n",
    "    \n",
    "    \n",
    "    \n",
    "\n",
    "    \n",
    "    \n",
    "    \n",
    "\n"
   ]
  },
  {
   "cell_type": "code",
   "execution_count": 3,
   "metadata": {},
   "outputs": [],
   "source": [
    "s=bankAccount('BHAGYESH')"
   ]
  },
  {
   "cell_type": "code",
   "execution_count": 4,
   "metadata": {},
   "outputs": [
    {
     "name": "stdout",
     "output_type": "stream",
     "text": [
      "How many rupees to deposit\n",
      "None8000\n",
      "BHAGYESH  ,You have deposited  8000.0  ,Your total balance is  8000.0\n"
     ]
    }
   ],
   "source": [
    "s.deposit()"
   ]
  },
  {
   "cell_type": "code",
   "execution_count": 5,
   "metadata": {},
   "outputs": [
    {
     "name": "stdout",
     "output_type": "stream",
     "text": [
      "How many rupees to withdraw\n",
      "None6000\n",
      "BHAGYESH ,you have withdrawl  6000.0 ,Your total balance is 2000.0\n"
     ]
    }
   ],
   "source": [
    "s.withDrawl()"
   ]
  },
  {
   "cell_type": "code",
   "execution_count": 6,
   "metadata": {},
   "outputs": [
    {
     "name": "stdout",
     "output_type": "stream",
     "text": [
      "How many rupees to withdraw\n",
      "None6000\n",
      "BHAGYESH ,INSUFFICIENT BALANCE\n"
     ]
    }
   ],
   "source": [
    "s.withDrawl()"
   ]
  },
  {
   "cell_type": "markdown",
   "metadata": {},
   "source": [
    "# Question 2:"
   ]
  },
  {
   "cell_type": "markdown",
   "metadata": {},
   "source": [
    "\n",
    "For this challenge,create a cone class that has two attributes:\n",
    "\n",
    "*R=Radius\n",
    "*h=Height\n",
    "\n",
    "And two methods:\n",
    "\n",
    "*Volume = Π * r2 = (h/3)\n",
    "\n",
    "*Surface area : base : Π * r2 , side : Π * r * √(r2 + h2)\n",
    "\n",
    "Make only one class with functions,as in where required import Math."
   ]
  },
  {
   "cell_type": "code",
   "execution_count": 7,
   "metadata": {},
   "outputs": [],
   "source": [
    "import math\n",
    "class cone():\n",
    "    def __init__(self,radius,height):\n",
    "        self.radius=radius\n",
    "        self.height=height\n",
    "    def volume(self):\n",
    "        vol=float((math.pi*(self.radius**2)*self.height)/3)\n",
    "        print(vol)\n",
    "    def surfaceArea(self):\n",
    "        side=math.pi*self.radius*(math.sqrt(self.radius**2+self.height**2))\n",
    "        area=float(math.pi*(self.radius**2)+side)\n",
    "        print(area)\n",
    "        "
   ]
  },
  {
   "cell_type": "code",
   "execution_count": null,
   "metadata": {},
   "outputs": [],
   "source": []
  },
  {
   "cell_type": "code",
   "execution_count": 9,
   "metadata": {},
   "outputs": [],
   "source": [
    "m=cone(4,7)"
   ]
  },
  {
   "cell_type": "code",
   "execution_count": 10,
   "metadata": {},
   "outputs": [
    {
     "name": "stdout",
     "output_type": "stream",
     "text": [
      "117.28612573401894\n"
     ]
    }
   ],
   "source": [
    "m.volume()"
   ]
  },
  {
   "cell_type": "code",
   "execution_count": 11,
   "metadata": {},
   "outputs": [
    {
     "name": "stdout",
     "output_type": "stream",
     "text": [
      "151.57880131104514\n"
     ]
    }
   ],
   "source": [
    "m.surfaceArea()"
   ]
  },
  {
   "cell_type": "code",
   "execution_count": null,
   "metadata": {},
   "outputs": [],
   "source": []
  }
 ],
 "metadata": {
  "kernelspec": {
   "display_name": "Python 3",
   "language": "python",
   "name": "python3"
  },
  "language_info": {
   "codemirror_mode": {
    "name": "ipython",
    "version": 3
   },
   "file_extension": ".py",
   "mimetype": "text/x-python",
   "name": "python",
   "nbconvert_exporter": "python",
   "pygments_lexer": "ipython3",
   "version": "3.8.3"
  }
 },
 "nbformat": 4,
 "nbformat_minor": 4
}
